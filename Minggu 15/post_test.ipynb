{
 "cells": [
  {
   "cell_type": "code",
   "execution_count": 152,
   "metadata": {},
   "outputs": [],
   "source": [
    "import pandas as pd\n",
    "from sklearn.preprocessing import MinMaxScaler\n",
    "from sklearn.neighbors import KNeighborsRegressor\n",
    "from sklearn.neighbors import KNeighborsClassifier\n",
    "from sklearn.model_selection import train_test_split\n",
    "\n",
    "data = pd.read_csv('data/water_potability.csv')"
   ]
  },
  {
   "cell_type": "code",
   "execution_count": 132,
   "metadata": {},
   "outputs": [
    {
     "name": "stdout",
     "output_type": "stream",
     "text": [
      "     Hardness       Solids     Sulfate  Conductivity  Organic_carbon  \\\n",
      "0  204.890456  20791.31898  368.516441    564.308654       10.379783   \n",
      "1  129.422921  18630.05786         NaN    592.885359       15.180013   \n",
      "2  224.236259  19909.54173         NaN    418.606213       16.868637   \n",
      "3  214.373394  22018.41744  356.886136    363.266516       18.436525   \n",
      "4  181.101509  17978.98634  310.135738    398.410813       11.558279   \n",
      "\n",
      "   Potability  \n",
      "0           0  \n",
      "1           0  \n",
      "2           0  \n",
      "3           0  \n",
      "4           0  \n"
     ]
    }
   ],
   "source": [
    "features = data[['Hardness', 'Solids', 'Sulfate', 'Conductivity', 'Organic_carbon', 'Potability']]\n",
    "print(features.head())"
   ]
  },
  {
   "cell_type": "code",
   "execution_count": 133,
   "metadata": {},
   "outputs": [
    {
     "name": "stdout",
     "output_type": "stream",
     "text": [
      "     Hardness       Solids  Conductivity  Organic_carbon  Potability\n",
      "0  204.890456  20791.31898    564.308654       10.379783           0\n",
      "3  214.373394  22018.41744    363.266516       18.436525           0\n",
      "4  181.101509  17978.98634    398.410813       11.558279           0\n",
      "5  188.313324  28748.68774    280.467916        8.399735           0\n",
      "6  248.071735  28749.71654    283.651634       13.789695           0\n"
     ]
    }
   ],
   "source": [
    "train_data = data[data['Sulfate'].notnull()][['Hardness', 'Solids', 'Conductivity', 'Organic_carbon', 'Potability']]\n",
    "\n",
    "print(train_data.head())"
   ]
  },
  {
   "cell_type": "code",
   "execution_count": 134,
   "metadata": {},
   "outputs": [
    {
     "name": "stdout",
     "output_type": "stream",
     "text": [
      "0    368.516441\n",
      "3    356.886136\n",
      "4    310.135738\n",
      "5    326.678363\n",
      "6    393.663395\n",
      "Name: Sulfate, dtype: float64\n"
     ]
    }
   ],
   "source": [
    "train_label = data[data['Sulfate'].notnull()]['Sulfate']\n",
    "print(train_label.head())"
   ]
  },
  {
   "cell_type": "code",
   "execution_count": 135,
   "metadata": {},
   "outputs": [
    {
     "name": "stdout",
     "output_type": "stream",
     "text": [
      "      Hardness       Solids  Conductivity  Organic_carbon  Potability\n",
      "1   129.422921  18630.05786    592.885359       15.180013           0\n",
      "2   224.236259  19909.54173    418.606213       16.868637           0\n",
      "11  218.693300  18767.65668    364.098230       14.525746           0\n",
      "14  205.344982  28388.00489    444.645352       13.228311           0\n",
      "16  211.049406  30980.60079    315.141267       20.397022           0\n"
     ]
    }
   ],
   "source": [
    "#5\n",
    "test_data = data[data['Sulfate'].isnull()][['Hardness', 'Solids', 'Conductivity', 'Organic_carbon', 'Potability']]\n",
    "print(test_data.head())"
   ]
  },
  {
   "cell_type": "code",
   "execution_count": 136,
   "metadata": {},
   "outputs": [
    {
     "name": "stdout",
     "output_type": "stream",
     "text": [
      "   Hardness    Solids  Conductivity  Organic_carbon  Potability\n",
      "0  0.583382  0.336096      0.657375        0.329741         0.0\n",
      "1  0.618517  0.356244      0.292985        0.654522         0.0\n",
      "2  0.495244  0.289922      0.356685        0.377248         0.0\n",
      "3  0.521964  0.466746      0.142913        0.249922         0.0\n",
      "4  0.743369  0.466763      0.148683        0.467200         0.0\n",
      "\n",
      "Minimum values:\n",
      "Hardness           47.432000\n",
      "Solids            320.942611\n",
      "Conductivity      201.619737\n",
      "Organic_carbon      2.200000\n",
      "Potability          0.000000\n",
      "dtype: float64\n",
      "\n",
      "Maximum values:\n",
      "Hardness            317.338124\n",
      "Solids            61227.196010\n",
      "Conductivity        753.342620\n",
      "Organic_carbon       27.006707\n",
      "Potability            1.000000\n",
      "dtype: float64\n"
     ]
    }
   ],
   "source": [
    "#6\n",
    "min_values = train_data.min()\n",
    "max_values = train_data.max()\n",
    "\n",
    "scaler = MinMaxScaler(feature_range=(0,1))\n",
    "train_data_normalized = scaler.fit_transform(train_data)\n",
    "\n",
    "train_data_normalized = pd.DataFrame(train_data_normalized, columns=train_data.columns)\n",
    "print(train_data_normalized.head())\n",
    "\n",
    "print(\"\\nMinimum values:\")\n",
    "print(min_values)\n",
    "print(\"\\nMaximum values:\")\n",
    "print(max_values)\n"
   ]
  },
  {
   "cell_type": "code",
   "execution_count": 137,
   "metadata": {},
   "outputs": [
    {
     "name": "stdout",
     "output_type": "stream",
     "text": [
      "    Hardness    Solids  Conductivity  Organic_carbon  Potability\n",
      "1   0.203387  0.300612      0.719844        0.497319         0.0\n",
      "2   0.593565  0.321620      0.414904        0.562017         0.0\n",
      "11  0.570754  0.302872      0.319531        0.472251         0.0\n",
      "14  0.515823  0.460825      0.460466        0.422541         0.0\n",
      "16  0.539298  0.503393      0.233870        0.697204         0.0\n"
     ]
    }
   ],
   "source": [
    "#7\n",
    "min_values = {'Hardness': 80, 'Solids': 320.94, 'Conductivity': 181.48, 'Organic_carbon': 2.2, 'Potability': 0}\n",
    "max_values = {'Hardness': 323, 'Solids': 61227, 'Conductivity': 753, 'Organic_carbon': 28.3, 'Potability': 1}\n",
    "\n",
    "for column in test_data.columns:\n",
    "    test_data[column] = (test_data[column] - min_values[column]) / (max_values[column] - min_values[column])\n",
    "\n",
    "print(test_data.head())"
   ]
  },
  {
   "cell_type": "code",
   "execution_count": 138,
   "metadata": {},
   "outputs": [
    {
     "name": "stdout",
     "output_type": "stream",
     "text": [
      "[332.4985678  332.4985678  332.4985678  332.4985678  332.4985678\n",
      " 332.4985678  332.4985678  332.4985678  332.4985678  332.4985678\n",
      " 332.4985678  332.4985678  332.4985678  332.4985678  332.4985678\n",
      " 332.4985678  332.4985678  332.4985678  332.4985678  332.4985678\n",
      " 332.4985678  332.4985678  332.4985678  332.4985678  332.4985678\n",
      " 332.4985678  332.4985678  332.4985678  332.4985678  332.4985678\n",
      " 332.4985678  332.4985678  332.4985678  332.4985678  332.4985678\n",
      " 332.4985678  332.4985678  332.4985678  332.4985678  332.4985678\n",
      " 332.4985678  332.4985678  332.4985678  332.4985678  332.4985678\n",
      " 332.4985678  332.4985678  332.4985678  332.4985678  332.4985678\n",
      " 332.4985678  332.4985678  332.4985678  332.4985678  332.4985678\n",
      " 332.4985678  332.4985678  332.4985678  332.4985678  332.4985678\n",
      " 332.4985678  332.4985678  381.01892203 381.01892203 381.01892203\n",
      " 381.01892203 381.01892203 381.01892203 381.01892203 381.01892203\n",
      " 381.01892203 381.01892203 381.01892203 381.01892203 381.01892203\n",
      " 381.01892203 381.01892203 381.01892203 381.01892203 381.01892203\n",
      " 381.01892203 381.01892203 381.01892203 381.01892203 381.01892203\n",
      " 381.01892203 381.01892203 381.01892203 381.01892203 381.01892203\n",
      " 381.01892203 381.01892203 381.01892203 381.01892203 381.01892203\n",
      " 381.01892203 381.01892203 381.01892203 381.01892203 381.01892203\n",
      " 332.4985678  332.4985678  332.4985678  332.4985678  332.4985678\n",
      " 332.4985678  332.4985678  332.4985678  332.4985678  332.4985678\n",
      " 332.4985678  332.4985678  332.4985678  332.4985678  332.4985678\n",
      " 332.4985678  332.4985678  332.4985678  332.4985678  332.4985678\n",
      " 332.4985678  332.4985678  332.4985678  332.4985678  332.4985678\n",
      " 332.4985678  332.4985678  332.4985678  332.4985678  332.4985678\n",
      " 332.4985678  332.4985678  332.4985678  332.4985678  332.4985678\n",
      " 332.4985678  332.4985678  332.4985678  332.4985678  332.4985678\n",
      " 332.4985678  332.4985678  332.4985678  332.4985678  332.4985678\n",
      " 332.4985678  332.4985678  332.4985678  332.4985678  332.4985678\n",
      " 332.4985678  332.4985678  332.4985678  332.4985678  332.4985678\n",
      " 332.4985678  332.4985678  332.4985678  332.4985678  332.4985678\n",
      " 332.4985678  381.01892203 381.01892203 381.01892203 381.01892203\n",
      " 381.01892203 381.01892203 381.01892203 381.01892203 381.01892203\n",
      " 381.01892203 381.01892203 381.01892203 381.01892203 381.01892203\n",
      " 381.01892203 381.01892203 381.01892203 381.01892203 381.01892203\n",
      " 381.01892203 381.01892203 381.01892203 381.01892203 381.01892203\n",
      " 381.01892203 381.01892203 381.01892203 381.01892203 381.01892203\n",
      " 381.01892203 381.01892203 381.01892203 381.01892203 381.01892203\n",
      " 381.01892203 381.01892203 381.01892203 381.01892203 381.01892203\n",
      " 381.01892203 332.4985678  332.4985678  332.4985678  332.4985678\n",
      " 332.4985678  332.4985678  332.4985678  332.4985678  332.4985678\n",
      " 332.4985678  332.4985678  332.4985678  332.4985678  332.4985678\n",
      " 332.4985678  332.4985678  332.4985678  332.4985678  332.4985678\n",
      " 332.4985678  332.4985678  332.4985678  332.4985678  332.4985678\n",
      " 332.4985678  332.4985678  332.4985678  332.4985678  332.4985678\n",
      " 332.4985678  332.4985678  332.4985678  332.4985678  332.4985678\n",
      " 332.4985678  332.4985678  332.4985678  332.4985678  332.4985678\n",
      " 332.4985678  332.4985678  332.4985678  332.4985678  332.4985678\n",
      " 332.4985678  332.4985678  332.4985678  332.4985678  332.4985678\n",
      " 332.4985678  332.4985678  332.4985678  381.01892203 381.01892203\n",
      " 381.01892203 381.01892203 381.01892203 381.01892203 381.01892203\n",
      " 381.01892203 381.01892203 381.01892203 381.01892203 381.01892203\n",
      " 381.01892203 381.01892203 381.01892203 381.01892203 381.01892203\n",
      " 381.01892203 381.01892203 381.01892203 381.01892203 381.01892203\n",
      " 381.01892203 381.01892203 381.01892203 381.01892203 381.01892203\n",
      " 381.01892203 381.01892203 381.01892203 381.01892203 381.01892203\n",
      " 381.01892203 381.01892203 381.01892203 381.01892203 381.01892203\n",
      " 381.01892203 381.01892203 332.4985678  332.4985678  332.4985678\n",
      " 332.4985678  332.4985678  332.4985678  332.4985678  332.4985678\n",
      " 332.4985678  332.4985678  332.4985678  332.4985678  332.4985678\n",
      " 332.4985678  332.4985678  332.4985678  332.4985678  332.4985678\n",
      " 332.4985678  332.4985678  332.4985678  332.4985678  332.4985678\n",
      " 332.4985678  332.4985678  332.4985678  332.4985678  332.4985678\n",
      " 332.4985678  332.4985678  332.4985678  332.4985678  332.4985678\n",
      " 332.4985678  332.4985678  332.4985678  332.4985678  332.4985678\n",
      " 332.4985678  332.4985678  332.4985678  332.4985678  332.4985678\n",
      " 332.4985678  332.4985678  332.4985678  332.4985678  332.4985678\n",
      " 332.4985678  332.4985678  332.4985678  332.4985678  332.4985678\n",
      " 332.4985678  332.4985678  332.4985678  332.4985678  332.4985678\n",
      " 332.4985678  332.4985678  332.4985678  332.4985678  332.4985678\n",
      " 332.4985678  332.4985678  381.01892203 381.01892203 381.01892203\n",
      " 381.01892203 381.01892203 381.01892203 381.01892203 381.01892203\n",
      " 381.01892203 381.01892203 381.01892203 381.01892203 381.01892203\n",
      " 381.01892203 381.01892203 381.01892203 381.01892203 381.01892203\n",
      " 381.01892203 381.01892203 381.01892203 381.01892203 381.01892203\n",
      " 381.01892203 381.01892203 381.01892203 381.01892203 381.01892203\n",
      " 381.01892203 381.01892203 381.01892203 381.01892203 332.4985678\n",
      " 332.4985678  332.4985678  332.4985678  332.4985678  332.4985678\n",
      " 332.4985678  332.4985678  332.4985678  332.4985678  332.4985678\n",
      " 332.4985678  332.4985678  332.4985678  332.4985678  332.4985678\n",
      " 332.4985678  332.4985678  332.4985678  332.4985678  332.4985678\n",
      " 332.4985678  332.4985678  332.4985678  332.4985678  332.4985678\n",
      " 332.4985678  332.4985678  332.4985678  332.4985678  332.4985678\n",
      " 332.4985678  332.4985678  332.4985678  332.4985678  332.4985678\n",
      " 332.4985678  332.4985678  332.4985678  332.4985678  332.4985678\n",
      " 332.4985678  332.4985678  332.4985678  332.4985678  332.4985678\n",
      " 332.4985678  332.4985678  332.4985678  332.4985678  332.4985678\n",
      " 332.4985678  332.4985678  332.4985678  332.4985678  332.4985678\n",
      " 332.4985678  332.4985678  381.01892203 381.01892203 381.01892203\n",
      " 381.01892203 381.01892203 381.01892203 381.01892203 381.01892203\n",
      " 381.01892203 381.01892203 381.01892203 381.01892203 381.01892203\n",
      " 381.01892203 381.01892203 381.01892203 381.01892203 381.01892203\n",
      " 381.01892203 381.01892203 381.01892203 381.01892203 381.01892203\n",
      " 381.01892203 381.01892203 381.01892203 381.01892203 381.01892203\n",
      " 381.01892203 381.01892203 381.01892203 381.01892203 381.01892203\n",
      " 332.4985678  332.4985678  332.4985678  332.4985678  332.4985678\n",
      " 332.4985678  332.4985678  332.4985678  332.4985678  332.4985678\n",
      " 332.4985678  332.4985678  332.4985678  332.4985678  332.4985678\n",
      " 332.4985678  332.4985678  332.4985678  332.4985678  332.4985678\n",
      " 332.4985678  332.4985678  332.4985678  332.4985678  332.4985678\n",
      " 332.4985678  332.4985678  332.4985678  332.4985678  332.4985678\n",
      " 332.4985678  332.4985678  332.4985678  332.4985678  332.4985678\n",
      " 332.4985678  332.4985678  332.4985678  332.4985678  332.4985678\n",
      " 332.4985678  332.4985678  332.4985678  332.4985678  332.4985678\n",
      " 332.4985678  332.4985678  332.4985678  332.4985678  332.4985678\n",
      " 332.4985678  332.4985678  332.4985678  332.4985678  332.4985678\n",
      " 332.4985678  332.4985678  332.4985678  332.4985678  332.4985678\n",
      " 332.4985678  332.4985678  332.4985678  381.01892203 381.01892203\n",
      " 381.01892203 381.01892203 381.01892203 381.01892203 381.01892203\n",
      " 381.01892203 381.01892203 381.01892203 381.01892203 381.01892203\n",
      " 381.01892203 381.01892203 381.01892203 381.01892203 381.01892203\n",
      " 381.01892203 381.01892203 381.01892203 381.01892203 381.01892203\n",
      " 381.01892203 381.01892203 381.01892203 381.01892203 381.01892203\n",
      " 381.01892203 381.01892203 381.01892203 332.4985678  332.4985678\n",
      " 332.4985678  332.4985678  332.4985678  332.4985678  332.4985678\n",
      " 332.4985678  332.4985678  332.4985678  332.4985678  332.4985678\n",
      " 332.4985678  332.4985678  332.4985678  332.4985678  332.4985678\n",
      " 332.4985678  332.4985678  332.4985678  332.4985678  332.4985678\n",
      " 332.4985678  332.4985678  332.4985678  332.4985678  332.4985678\n",
      " 332.4985678  332.4985678  332.4985678  332.4985678  332.4985678\n",
      " 332.4985678  332.4985678  332.4985678  332.4985678  332.4985678\n",
      " 332.4985678  332.4985678  332.4985678  332.4985678  332.4985678\n",
      " 332.4985678  332.4985678  332.4985678  332.4985678  332.4985678\n",
      " 332.4985678  332.4985678  332.4985678  332.4985678  332.4985678\n",
      " 332.4985678  332.4985678  332.4985678  332.4985678  332.4985678\n",
      " 332.4985678  332.4985678  332.4985678  332.4985678  332.4985678\n",
      " 381.01892203 381.01892203 381.01892203 381.01892203 381.01892203\n",
      " 381.01892203 381.01892203 381.01892203 381.01892203 381.01892203\n",
      " 381.01892203 381.01892203 381.01892203 381.01892203 381.01892203\n",
      " 381.01892203 381.01892203 381.01892203 381.01892203 381.01892203\n",
      " 381.01892203 381.01892203 381.01892203 381.01892203 381.01892203\n",
      " 381.01892203 381.01892203 381.01892203 381.01892203 381.01892203\n",
      " 381.01892203 381.01892203 381.01892203 381.01892203 381.01892203\n",
      " 381.01892203 381.01892203 381.01892203 332.4985678  332.4985678\n",
      " 332.4985678  332.4985678  332.4985678  332.4985678  332.4985678\n",
      " 332.4985678  332.4985678  332.4985678  332.4985678  332.4985678\n",
      " 332.4985678  332.4985678  332.4985678  332.4985678  332.4985678\n",
      " 332.4985678  332.4985678  332.4985678  332.4985678  332.4985678\n",
      " 332.4985678  332.4985678  332.4985678  332.4985678  332.4985678\n",
      " 332.4985678  332.4985678  332.4985678  332.4985678  332.4985678\n",
      " 332.4985678  332.4985678  332.4985678  332.4985678  332.4985678\n",
      " 332.4985678  332.4985678  332.4985678  332.4985678  332.4985678\n",
      " 332.4985678  332.4985678  332.4985678  332.4985678  332.4985678\n",
      " 332.4985678  332.4985678  332.4985678  332.4985678  332.4985678\n",
      " 332.4985678  332.4985678  332.4985678  332.4985678  332.4985678\n",
      " 332.4985678  332.4985678  332.4985678  332.4985678  332.4985678\n",
      " 332.4985678  332.4985678  332.4985678  381.01892203 381.01892203\n",
      " 381.01892203 381.01892203 381.01892203 381.01892203 381.01892203\n",
      " 381.01892203 381.01892203 381.01892203 381.01892203 381.01892203\n",
      " 381.01892203 381.01892203 381.01892203 381.01892203 381.01892203\n",
      " 381.01892203 381.01892203 381.01892203 381.01892203 381.01892203\n",
      " 381.01892203 381.01892203 381.01892203 381.01892203 381.01892203\n",
      " 381.01892203 381.01892203 381.01892203 381.01892203 381.01892203\n",
      " 381.01892203 381.01892203 381.01892203 381.01892203 381.01892203\n",
      " 381.01892203 381.01892203 381.01892203 381.01892203 381.01892203\n",
      " 381.01892203]\n"
     ]
    },
    {
     "name": "stderr",
     "output_type": "stream",
     "text": [
      "c:\\Users\\ACER\\anaconda3\\lib\\site-packages\\sklearn\\base.py:420: UserWarning: X does not have valid feature names, but KNeighborsRegressor was fitted with feature names\n",
      "  warnings.warn(\n"
     ]
    }
   ],
   "source": [
    "#8\n",
    "test_data_normalized = scaler.transform(test_data)\n",
    "\n",
    "knn = KNeighborsRegressor(n_neighbors=3)\n",
    "knn.fit(train_data_normalized, train_label)\n",
    "\n",
    "class_result = knn.predict(test_data_normalized)\n",
    "\n",
    "print(class_result)"
   ]
  },
  {
   "cell_type": "code",
   "execution_count": 139,
   "metadata": {},
   "outputs": [
    {
     "name": "stdout",
     "output_type": "stream",
     "text": [
      "            ph    Hardness       Solids  Chloramines     Sulfate  \\\n",
      "0          NaN  204.890456  20791.31898     7.300212  368.516441   \n",
      "1     3.716080  129.422921  18630.05786     6.635246  332.498568   \n",
      "2     8.099124  224.236259  19909.54173     9.275884  332.498568   \n",
      "3     8.316766  214.373394  22018.41744     8.059332  356.886136   \n",
      "4     9.092223  181.101509  17978.98634     6.546600  310.135738   \n",
      "...        ...         ...          ...          ...         ...   \n",
      "3271  4.668102  193.681736  47580.99160     7.166639  359.948574   \n",
      "3272  7.808856  193.553212  17329.80216     8.061362  381.018922   \n",
      "3273  9.419510  175.762646  33155.57822     7.350233  381.018922   \n",
      "3274  5.126763  230.603758  11983.86938     6.303357  381.018922   \n",
      "3275  7.874671  195.102299  17404.17706     7.509306  381.018922   \n",
      "\n",
      "      Conductivity  Organic_carbon  Trihalomethanes  Turbidity  Potability  \n",
      "0       564.308654       10.379783        86.990970   2.963135           0  \n",
      "1       592.885359       15.180013        56.329076   4.500656           0  \n",
      "2       418.606213       16.868637        66.420093   3.055934           0  \n",
      "3       363.266516       18.436525       100.341674   4.628771           0  \n",
      "4       398.410813       11.558279        31.997993   4.075075           0  \n",
      "...            ...             ...              ...        ...         ...  \n",
      "3271    526.424171       13.894419        66.687695   4.435821           1  \n",
      "3272    392.449580       19.903225              NaN   2.798243           1  \n",
      "3273    432.044783       11.039070        69.845400   3.298875           1  \n",
      "3274    402.883113       11.168946        77.488213   4.708658           1  \n",
      "3275    327.459761       16.140368        78.698446   2.309149           1  \n",
      "\n",
      "[3276 rows x 10 columns]\n"
     ]
    },
    {
     "name": "stderr",
     "output_type": "stream",
     "text": [
      "c:\\Users\\ACER\\anaconda3\\lib\\site-packages\\sklearn\\base.py:420: UserWarning: X does not have valid feature names, but KNeighborsRegressor was fitted with feature names\n",
      "  warnings.warn(\n"
     ]
    }
   ],
   "source": [
    "#9\n",
    "data.loc[data['Sulfate'].isnull(), 'Sulfate'] = knn.predict(test_data_normalized)\n",
    "\n",
    "print(data)"
   ]
  },
  {
   "cell_type": "code",
   "execution_count": 141,
   "metadata": {},
   "outputs": [],
   "source": [
    "#10\n",
    "X_train, X_test, y_train, y_test = train_test_split(train_data_normalized, train_label, test_size=0.2, random_state=42)"
   ]
  },
  {
   "cell_type": "code",
   "execution_count": 142,
   "metadata": {},
   "outputs": [
    {
     "name": "stdout",
     "output_type": "stream",
     "text": [
      "      Hardness    Solids  Conductivity  Organic_carbon\n",
      "461   0.464724  0.234863      0.817290        0.322980\n",
      "109   0.642507  0.352703      0.334939        0.638345\n",
      "1951  0.511185  0.230231      0.376083        0.505558\n",
      "354   0.579274  0.556677      0.387799        0.565212\n",
      "266   0.524435  0.191187      0.546237        0.470296\n"
     ]
    }
   ],
   "source": [
    "#11\n",
    "train_data = X_train[['Hardness', 'Solids', 'Conductivity', 'Organic_carbon']]\n",
    "\n",
    "print(train_data.head())"
   ]
  },
  {
   "cell_type": "code",
   "execution_count": 143,
   "metadata": {},
   "outputs": [
    {
     "name": "stdout",
     "output_type": "stream",
     "text": [
      "      Potability\n",
      "461          0.0\n",
      "109          0.0\n",
      "1951         0.0\n",
      "354          0.0\n",
      "266          1.0\n"
     ]
    }
   ],
   "source": [
    "#12\n",
    "train_label = X_train[['Potability']]\n",
    "print(train_label.head())"
   ]
  },
  {
   "cell_type": "code",
   "execution_count": 144,
   "metadata": {},
   "outputs": [
    {
     "name": "stdout",
     "output_type": "stream",
     "text": [
      "      Hardness    Solids  Conductivity  Organic_carbon\n",
      "2290  0.559664  0.736014      0.408896        0.537360\n",
      "1858  0.403461  0.297367      0.157202        0.389891\n",
      "902   0.546811  0.280127      0.330193        0.360672\n",
      "2236  0.607696  0.179179      0.586289        0.519963\n",
      "1100  0.438609  0.094367      0.437115        0.359506\n"
     ]
    }
   ],
   "source": [
    "#13\n",
    "test_data =X_test[['Hardness', 'Solids', 'Conductivity', 'Organic_carbon']]\n",
    "print(test_data.head())"
   ]
  },
  {
   "cell_type": "code",
   "execution_count": 145,
   "metadata": {},
   "outputs": [],
   "source": [
    "#14\n",
    "test_label = X_test[['Potability']]"
   ]
  },
  {
   "cell_type": "code",
   "execution_count": 146,
   "metadata": {},
   "outputs": [
    {
     "name": "stdout",
     "output_type": "stream",
     "text": [
      "   Hardness    Solids  Conductivity  Organic_carbon\n",
      "0  0.407519  0.234863      0.817290        0.368329\n",
      "1  0.604301  0.352703      0.334939        0.727975\n",
      "2  0.458945  0.230231      0.376083        0.576544\n",
      "3  0.534310  0.556677      0.387799        0.644573\n",
      "4  0.473611  0.191187      0.546237        0.536330\n",
      "\n",
      "Minimum values:\n",
      "Hardness          0.096553\n",
      "Solids            0.000000\n",
      "Conductivity      0.000000\n",
      "Organic_carbon    0.000000\n",
      "dtype: float64\n",
      "\n",
      "Maximum values:\n",
      "Hardness          1.000000\n",
      "Solids            1.000000\n",
      "Conductivity      1.000000\n",
      "Organic_carbon    0.876878\n",
      "dtype: float64\n"
     ]
    }
   ],
   "source": [
    "#15\n",
    "min_values = train_data.min()\n",
    "max_values = train_data.max()\n",
    "\n",
    "scaler = MinMaxScaler(feature_range=(0,1))\n",
    "train_data_normalized = scaler.fit_transform(train_data)\n",
    "\n",
    "train_data_normalized = pd.DataFrame(train_data_normalized, columns=train_data.columns)\n",
    "print(train_data_normalized.head())\n",
    "\n",
    "print(\"\\nMinimum values:\")\n",
    "print(min_values)\n",
    "print(\"\\nMaximum values:\")\n",
    "print(max_values)"
   ]
  },
  {
   "cell_type": "code",
   "execution_count": 148,
   "metadata": {},
   "outputs": [
    {
     "name": "stdout",
     "output_type": "stream",
     "text": [
      "      Hardness    Solids  Conductivity  Organic_carbon\n",
      "2290  0.460515  0.736014      0.408896        0.698854\n",
      "1858  0.269141  0.297367      0.157202        0.507066\n",
      "902   0.444768  0.280127      0.330193        0.469066\n",
      "2236  0.519362  0.179179      0.586289        0.676230\n",
      "1100  0.312204  0.094367      0.437115        0.467550\n"
     ]
    },
    {
     "name": "stderr",
     "output_type": "stream",
     "text": [
      "C:\\Users\\ACER\\AppData\\Local\\Temp\\ipykernel_12036\\290888995.py:5: SettingWithCopyWarning: \n",
      "A value is trying to be set on a copy of a slice from a DataFrame.\n",
      "Try using .loc[row_indexer,col_indexer] = value instead\n",
      "\n",
      "See the caveats in the documentation: https://pandas.pydata.org/pandas-docs/stable/user_guide/indexing.html#returning-a-view-versus-a-copy\n",
      "  test_data[column] = (test_data[column] - min_values[column]) / (max_values[column] - min_values[column])\n"
     ]
    }
   ],
   "source": [
    "#16\n",
    "min_values = {'Hardness': 0.096553, 'Solids': 0.0, 'Conductivity': 0.0, 'Organic_carbon': 0.0}\n",
    "max_values = {'Hardness': 1.0, 'Solids': 1.0, 'Conductivity': 1.0, 'Organic_carbon': 0.876878}\n",
    "\n",
    "for column in test_data.columns:\n",
    "    test_data[column] = (test_data[column] - min_values[column]) / (max_values[column] - min_values[column])\n",
    "\n",
    "print(test_data.head())"
   ]
  },
  {
   "cell_type": "code",
   "execution_count": 153,
   "metadata": {},
   "outputs": [
    {
     "name": "stdout",
     "output_type": "stream",
     "text": [
      "[0. 1. 1. 0. 0. 0. 0. 0. 0. 1. 0. 1. 1. 1. 0. 0. 0. 1. 0. 0. 0. 1. 0. 0.\n",
      " 0. 1. 0. 0. 1. 0. 1. 0. 1. 0. 1. 1. 0. 0. 0. 0. 1. 1. 1. 0. 0. 0. 1. 0.\n",
      " 0. 1. 1. 1. 0. 0. 0. 0. 1. 1. 0. 0. 1. 0. 1. 0. 0. 1. 0. 0. 0. 0. 0. 1.\n",
      " 0. 0. 1. 1. 1. 0. 0. 1. 0. 0. 0. 0. 1. 0. 0. 0. 1. 0. 0. 0. 1. 0. 0. 0.\n",
      " 0. 0. 0. 0. 0. 0. 0. 0. 1. 0. 0. 1. 0. 1. 1. 1. 1. 1. 0. 1. 0. 0. 0. 0.\n",
      " 0. 0. 0. 0. 1. 0. 0. 1. 1. 0. 1. 0. 0. 0. 1. 0. 1. 1. 0. 1. 0. 1. 1. 0.\n",
      " 0. 0. 0. 1. 1. 1. 1. 0. 0. 1. 1. 0. 1. 1. 1. 0. 1. 0. 0. 1. 1. 0. 0. 0.\n",
      " 0. 1. 0. 1. 1. 1. 0. 1. 0. 0. 0. 1. 0. 0. 1. 0. 0. 0. 0. 0. 0. 1. 0. 1.\n",
      " 0. 0. 1. 0. 0. 0. 1. 0. 1. 0. 1. 0. 0. 1. 0. 0. 0. 0. 1. 1. 1. 0. 0. 0.\n",
      " 0. 1. 1. 1. 0. 1. 0. 0. 0. 0. 0. 0. 0. 0. 0. 1. 0. 1. 0. 0. 1. 0. 0. 0.\n",
      " 0. 1. 0. 1. 0. 0. 0. 0. 0. 1. 1. 0. 0. 0. 1. 1. 0. 1. 0. 0. 0. 0. 0. 0.\n",
      " 0. 1. 1. 1. 0. 0. 1. 0. 0. 0. 0. 0. 1. 0. 0. 1. 0. 1. 0. 0. 0. 1. 0. 1.\n",
      " 0. 0. 1. 0. 1. 0. 1. 1. 1. 0. 1. 0. 0. 1. 0. 0. 1. 0. 0. 1. 0. 0. 0. 0.\n",
      " 1. 1. 0. 0. 1. 0. 1. 0. 0. 0. 1. 1. 0. 1. 0. 1. 0. 1. 1. 0. 1. 0. 0. 0.\n",
      " 0. 1. 1. 0. 0. 1. 1. 0. 1. 0. 1. 0. 1. 0. 0. 1. 0. 0. 0. 1. 0. 0. 0. 0.\n",
      " 1. 0. 1. 0. 1. 1. 0. 1. 0. 0. 1. 0. 0. 0. 0. 0. 1. 0. 1. 0. 0. 0. 0. 0.\n",
      " 0. 0. 0. 1. 0. 0. 0. 0. 0. 1. 0. 0. 0. 1. 0. 0. 0. 1. 0. 0. 0. 0. 0. 1.\n",
      " 0. 1. 1. 0. 0. 0. 1. 1. 0. 1. 1. 0. 1. 1. 1. 0. 0. 0. 0. 0. 0. 1. 0. 0.\n",
      " 0. 0. 0. 0. 1. 0. 1. 0. 1. 1. 0. 1. 1. 0. 0. 1. 1. 1. 0. 0. 0. 1. 0. 1.\n",
      " 0. 1. 0. 1. 0. 0. 1. 0. 1. 0. 0. 0. 1. 1. 0. 1. 0. 0. 0. 1. 1. 1. 0. 0.\n",
      " 0. 0. 1. 0. 0. 1. 1. 0. 0. 0. 1. 0. 0. 0. 0. 0. 1. 1. 1.]\n"
     ]
    },
    {
     "name": "stderr",
     "output_type": "stream",
     "text": [
      "c:\\Users\\ACER\\anaconda3\\lib\\site-packages\\sklearn\\neighbors\\_classification.py:215: DataConversionWarning: A column-vector y was passed when a 1d array was expected. Please change the shape of y to (n_samples,), for example using ravel().\n",
      "  return self._fit(X, y)\n"
     ]
    }
   ],
   "source": [
    "knn = KNeighborsClassifier(n_neighbors=3)\n",
    "knn.fit(X_train, train_label)\n",
    "\n",
    "class_result = knn.predict(X_test)\n",
    "\n",
    "print(class_result)"
   ]
  },
  {
   "cell_type": "code",
   "execution_count": 155,
   "metadata": {},
   "outputs": [
    {
     "name": "stderr",
     "output_type": "stream",
     "text": [
      "C:\\Users\\ACER\\AppData\\Local\\Temp\\ipykernel_12036\\911571697.py:1: DeprecationWarning: elementwise comparison failed; this will raise an error in the future.\n",
      "  error_count = sum(class_result != test_label)\n"
     ]
    },
    {
     "ename": "ValueError",
     "evalue": "Unable to coerce to Series, length must be 1: given 499",
     "output_type": "error",
     "traceback": [
      "\u001b[1;31m---------------------------------------------------------------------------\u001b[0m",
      "\u001b[1;31mValueError\u001b[0m                                Traceback (most recent call last)",
      "Cell \u001b[1;32mIn[155], line 1\u001b[0m\n\u001b[1;32m----> 1\u001b[0m error_count \u001b[39m=\u001b[39m \u001b[39msum\u001b[39m(class_result \u001b[39m!=\u001b[39;49m test_label)\n\u001b[0;32m      3\u001b[0m \u001b[39mprint\u001b[39m(\u001b[39m\"\u001b[39m\u001b[39mJumlah kesalahan:\u001b[39m\u001b[39m\"\u001b[39m, error_count)\n",
      "File \u001b[1;32mc:\\Users\\ACER\\anaconda3\\lib\\site-packages\\pandas\\core\\ops\\common.py:72\u001b[0m, in \u001b[0;36m_unpack_zerodim_and_defer.<locals>.new_method\u001b[1;34m(self, other)\u001b[0m\n\u001b[0;32m     68\u001b[0m             \u001b[39mreturn\u001b[39;00m \u001b[39mNotImplemented\u001b[39m\n\u001b[0;32m     70\u001b[0m other \u001b[39m=\u001b[39m item_from_zerodim(other)\n\u001b[1;32m---> 72\u001b[0m \u001b[39mreturn\u001b[39;00m method(\u001b[39mself\u001b[39;49m, other)\n",
      "File \u001b[1;32mc:\\Users\\ACER\\anaconda3\\lib\\site-packages\\pandas\\core\\arraylike.py:46\u001b[0m, in \u001b[0;36mOpsMixin.__ne__\u001b[1;34m(self, other)\u001b[0m\n\u001b[0;32m     44\u001b[0m \u001b[39m@unpack_zerodim_and_defer\u001b[39m(\u001b[39m\"\u001b[39m\u001b[39m__ne__\u001b[39m\u001b[39m\"\u001b[39m)\n\u001b[0;32m     45\u001b[0m \u001b[39mdef\u001b[39;00m \u001b[39m__ne__\u001b[39m(\u001b[39mself\u001b[39m, other):\n\u001b[1;32m---> 46\u001b[0m     \u001b[39mreturn\u001b[39;00m \u001b[39mself\u001b[39;49m\u001b[39m.\u001b[39;49m_cmp_method(other, operator\u001b[39m.\u001b[39;49mne)\n",
      "File \u001b[1;32mc:\\Users\\ACER\\anaconda3\\lib\\site-packages\\pandas\\core\\frame.py:7579\u001b[0m, in \u001b[0;36mDataFrame._cmp_method\u001b[1;34m(self, other, op)\u001b[0m\n\u001b[0;32m   7576\u001b[0m \u001b[39mdef\u001b[39;00m \u001b[39m_cmp_method\u001b[39m(\u001b[39mself\u001b[39m, other, op):\n\u001b[0;32m   7577\u001b[0m     axis \u001b[39m=\u001b[39m \u001b[39m1\u001b[39m  \u001b[39m# only relevant for Series other case\u001b[39;00m\n\u001b[1;32m-> 7579\u001b[0m     \u001b[39mself\u001b[39m, other \u001b[39m=\u001b[39m ops\u001b[39m.\u001b[39;49malign_method_FRAME(\u001b[39mself\u001b[39;49m, other, axis, flex\u001b[39m=\u001b[39;49m\u001b[39mFalse\u001b[39;49;00m, level\u001b[39m=\u001b[39;49m\u001b[39mNone\u001b[39;49;00m)\n\u001b[0;32m   7581\u001b[0m     \u001b[39m# See GH#4537 for discussion of scalar op behavior\u001b[39;00m\n\u001b[0;32m   7582\u001b[0m     new_data \u001b[39m=\u001b[39m \u001b[39mself\u001b[39m\u001b[39m.\u001b[39m_dispatch_frame_op(other, op, axis\u001b[39m=\u001b[39maxis)\n",
      "File \u001b[1;32mc:\\Users\\ACER\\anaconda3\\lib\\site-packages\\pandas\\core\\ops\\__init__.py:248\u001b[0m, in \u001b[0;36malign_method_FRAME\u001b[1;34m(left, right, axis, flex, level)\u001b[0m\n\u001b[0;32m    245\u001b[0m \u001b[39mif\u001b[39;00m \u001b[39misinstance\u001b[39m(right, np\u001b[39m.\u001b[39mndarray):\n\u001b[0;32m    247\u001b[0m     \u001b[39mif\u001b[39;00m right\u001b[39m.\u001b[39mndim \u001b[39m==\u001b[39m \u001b[39m1\u001b[39m:\n\u001b[1;32m--> 248\u001b[0m         right \u001b[39m=\u001b[39m to_series(right)\n\u001b[0;32m    250\u001b[0m     \u001b[39melif\u001b[39;00m right\u001b[39m.\u001b[39mndim \u001b[39m==\u001b[39m \u001b[39m2\u001b[39m:\n\u001b[0;32m    251\u001b[0m         \u001b[39mif\u001b[39;00m right\u001b[39m.\u001b[39mshape \u001b[39m==\u001b[39m left\u001b[39m.\u001b[39mshape:\n",
      "File \u001b[1;32mc:\\Users\\ACER\\anaconda3\\lib\\site-packages\\pandas\\core\\ops\\__init__.py:239\u001b[0m, in \u001b[0;36malign_method_FRAME.<locals>.to_series\u001b[1;34m(right)\u001b[0m\n\u001b[0;32m    237\u001b[0m \u001b[39melse\u001b[39;00m:\n\u001b[0;32m    238\u001b[0m     \u001b[39mif\u001b[39;00m \u001b[39mlen\u001b[39m(left\u001b[39m.\u001b[39mcolumns) \u001b[39m!=\u001b[39m \u001b[39mlen\u001b[39m(right):\n\u001b[1;32m--> 239\u001b[0m         \u001b[39mraise\u001b[39;00m \u001b[39mValueError\u001b[39;00m(\n\u001b[0;32m    240\u001b[0m             msg\u001b[39m.\u001b[39mformat(req_len\u001b[39m=\u001b[39m\u001b[39mlen\u001b[39m(left\u001b[39m.\u001b[39mcolumns), given_len\u001b[39m=\u001b[39m\u001b[39mlen\u001b[39m(right))\n\u001b[0;32m    241\u001b[0m         )\n\u001b[0;32m    242\u001b[0m     right \u001b[39m=\u001b[39m left\u001b[39m.\u001b[39m_constructor_sliced(right, index\u001b[39m=\u001b[39mleft\u001b[39m.\u001b[39mcolumns)\n\u001b[0;32m    243\u001b[0m \u001b[39mreturn\u001b[39;00m right\n",
      "\u001b[1;31mValueError\u001b[0m: Unable to coerce to Series, length must be 1: given 499"
     ]
    }
   ],
   "source": [
    "error_count = sum(class_result != test_label)\n",
    "\n",
    "print(\"Jumlah kesalahan:\", error_count)"
   ]
  }
 ],
 "metadata": {
  "kernelspec": {
   "display_name": "base",
   "language": "python",
   "name": "python3"
  },
  "language_info": {
   "codemirror_mode": {
    "name": "ipython",
    "version": 3
   },
   "file_extension": ".py",
   "mimetype": "text/x-python",
   "name": "python",
   "nbconvert_exporter": "python",
   "pygments_lexer": "ipython3",
   "version": "3.10.9"
  },
  "orig_nbformat": 4
 },
 "nbformat": 4,
 "nbformat_minor": 2
}

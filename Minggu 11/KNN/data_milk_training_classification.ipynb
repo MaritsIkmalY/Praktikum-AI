{
 "cells": [
  {
   "cell_type": "code",
   "execution_count": 4,
   "metadata": {},
   "outputs": [],
   "source": [
    "from sklearn.preprocessing import MinMaxScaler\n",
    "import pandas as pd\n",
    "import numpy as np"
   ]
  },
  {
   "cell_type": "code",
   "execution_count": 5,
   "metadata": {},
   "outputs": [
    {
     "name": "stdout",
     "output_type": "stream",
     "text": [
      "[[35 1 0 1 0 254]\n",
      " [36 0 1 0 1 253]\n",
      " [37 1 1 1 1 255]\n",
      " ...\n",
      " [41 1 0 0 0 247]\n",
      " [41 0 0 0 0 255]\n",
      " [38 0 0 0 0 255]]\n",
      "['high' 'high' 'high' 'high' 'high' 'high' 'high' 'high' 'high' 'high'\n",
      " 'high' 'high' 'high' 'high' 'high' 'high' 'high' 'high' 'high' 'high'\n",
      " 'high' 'high' 'high' 'high' 'high' 'high' 'high' 'high' 'high' 'high'\n",
      " 'high' 'high' 'high' 'high' 'high' 'high' 'high' 'high' 'high' 'high'\n",
      " 'high' 'high' 'high' 'high' 'high' 'high' 'high' 'high' 'high' 'high'\n",
      " 'high' 'high' 'high' 'high' 'high' 'high' 'high' 'high' 'high' 'high'\n",
      " 'high' 'high' 'high' 'high' 'high' 'high' 'high' 'high' 'high' 'high'\n",
      " 'high' 'high' 'high' 'high' 'high' 'high' 'high' 'high' 'high' 'high'\n",
      " 'high' 'high' 'high' 'high' 'high' 'high' 'high' 'high' 'high' 'high'\n",
      " 'high' 'high' 'high' 'high' 'high' 'high' 'high' 'high' 'high' 'high'\n",
      " 'high' 'high' 'high' 'high' 'high' 'high' 'high' 'high' 'high' 'high'\n",
      " 'high' 'high' 'high' 'high' 'high' 'high' 'high' 'high' 'high' 'high'\n",
      " 'high' 'high' 'high' 'high' 'high' 'high' 'high' 'high' 'high' 'high'\n",
      " 'high' 'high' 'high' 'high' 'high' 'high' 'high' 'high' 'high' 'high'\n",
      " 'high' 'high' 'high' 'high' 'high' 'high' 'high' 'high' 'high' 'high'\n",
      " 'high' 'high' 'high' 'high' 'high' 'high' 'high' 'high' 'high' 'high'\n",
      " 'high' 'high' 'high' 'high' 'high' 'high' 'high' 'high' 'high' 'high'\n",
      " 'high' 'high' 'high' 'high' 'high' 'high' 'high' 'high' 'high' 'low'\n",
      " 'low' 'low' 'low' 'low' 'low' 'low' 'low' 'low' 'low' 'low' 'low' 'low'\n",
      " 'low' 'low' 'low' 'low' 'low' 'low' 'low' 'low' 'low' 'low' 'low' 'low'\n",
      " 'low' 'low' 'low' 'low' 'low' 'low' 'low' 'low' 'low' 'low' 'low' 'low'\n",
      " 'low' 'low' 'low' 'low' 'low' 'low' 'low' 'low' 'low' 'low' 'low' 'low'\n",
      " 'low' 'low' 'low' 'low' 'low' 'low' 'low' 'low' 'low' 'low' 'low' 'low'\n",
      " 'low' 'low' 'low' 'low' 'low' 'low' 'low' 'low' 'low' 'low' 'low' 'low'\n",
      " 'low' 'low' 'low' 'low' 'low' 'low' 'low' 'low' 'low' 'low' 'low' 'low'\n",
      " 'low' 'low' 'low' 'low' 'low' 'low' 'low' 'low' 'low' 'low' 'low' 'low'\n",
      " 'low' 'low' 'low' 'low' 'low' 'low' 'low' 'low' 'low' 'low' 'low' 'low'\n",
      " 'low' 'low' 'low' 'low' 'low' 'low' 'low' 'low' 'low' 'low' 'low' 'low'\n",
      " 'low' 'low' 'low' 'low' 'low' 'low' 'low' 'low' 'low' 'low' 'low' 'low'\n",
      " 'low' 'low' 'low' 'low' 'low' 'low' 'low' 'low' 'low' 'low' 'low' 'low'\n",
      " 'low' 'low' 'low' 'low' 'low' 'low' 'low' 'low' 'low' 'low' 'low' 'low'\n",
      " 'low' 'low' 'low' 'low' 'low' 'low' 'low' 'low' 'low' 'low' 'low' 'low'\n",
      " 'low' 'low' 'low' 'low' 'low' 'low' 'low' 'low' 'low' 'low' 'low' 'low'\n",
      " 'low' 'low' 'low' 'low' 'low' 'low' 'low' 'low' 'low' 'low' 'low' 'low'\n",
      " 'low' 'low' 'low' 'low' 'low' 'low' 'low' 'low' 'low' 'low' 'low' 'low'\n",
      " 'low' 'low' 'low' 'low' 'low' 'low' 'low' 'low' 'low' 'low' 'low' 'low'\n",
      " 'low' 'low' 'low' 'low' 'low' 'low' 'low' 'low' 'low' 'low' 'low' 'low'\n",
      " 'low' 'low' 'low' 'low' 'low' 'low' 'low' 'low' 'low' 'low' 'low' 'low'\n",
      " 'low' 'low' 'low' 'low' 'low' 'low' 'low' 'low' 'low' 'low' 'low' 'low'\n",
      " 'low' 'low' 'low' 'low' 'low' 'low' 'low' 'low' 'low' 'low' 'low' 'low'\n",
      " 'low' 'low' 'low' 'low' 'low' 'low' 'low' 'low' 'low' 'low' 'low' 'low'\n",
      " 'low' 'low' 'low' 'low' 'low' 'low' 'low' 'low' 'low' 'low' 'low' 'low'\n",
      " 'low' 'low' 'low' 'low' 'low' 'low' 'low' 'low' 'low' 'low' 'low'\n",
      " 'medium' 'medium' 'medium' 'medium' 'medium' 'medium' 'medium' 'medium'\n",
      " 'medium' 'medium' 'medium' 'medium' 'medium' 'medium' 'medium' 'medium'\n",
      " 'medium' 'medium' 'medium' 'medium' 'medium' 'medium' 'medium' 'medium'\n",
      " 'medium' 'medium' 'medium' 'medium' 'medium' 'medium' 'medium' 'medium'\n",
      " 'medium' 'medium' 'medium' 'medium' 'medium' 'medium' 'medium' 'medium'\n",
      " 'medium' 'medium' 'medium' 'medium' 'medium' 'medium' 'medium' 'medium'\n",
      " 'medium' 'medium' 'medium' 'medium' 'medium' 'medium' 'medium' 'medium'\n",
      " 'medium' 'medium' 'medium' 'medium' 'medium' 'medium' 'medium' 'medium'\n",
      " 'medium' 'medium' 'medium' 'medium' 'medium' 'medium' 'medium' 'medium'\n",
      " 'medium' 'medium' 'medium' 'medium' 'medium' 'medium' 'medium' 'medium'\n",
      " 'medium' 'medium' 'medium' 'medium' 'medium' 'medium' 'medium' 'medium'\n",
      " 'medium' 'medium' 'medium' 'medium' 'medium' 'medium' 'medium' 'medium'\n",
      " 'medium' 'medium' 'medium' 'medium' 'medium' 'medium' 'medium' 'medium'\n",
      " 'medium' 'medium' 'medium' 'medium' 'medium' 'medium' 'medium' 'medium'\n",
      " 'medium' 'medium' 'medium' 'medium' 'medium' 'medium' 'medium' 'medium'\n",
      " 'medium' 'medium' 'medium' 'medium' 'medium' 'medium' 'medium' 'medium'\n",
      " 'medium' 'medium' 'medium' 'medium' 'medium' 'medium' 'medium' 'medium'\n",
      " 'medium' 'medium' 'medium' 'medium' 'medium' 'medium' 'medium' 'medium'\n",
      " 'medium' 'medium' 'medium' 'medium' 'medium' 'medium' 'medium' 'medium'\n",
      " 'medium' 'medium' 'medium' 'medium' 'medium' 'medium' 'medium' 'medium'\n",
      " 'medium' 'medium' 'medium' 'medium' 'medium' 'medium' 'medium' 'medium'\n",
      " 'medium' 'medium' 'medium' 'medium' 'medium' 'medium' 'medium' 'medium'\n",
      " 'medium' 'medium' 'medium' 'medium' 'medium' 'medium' 'medium' 'medium'\n",
      " 'medium' 'medium' 'medium' 'medium' 'medium' 'medium' 'medium' 'medium'\n",
      " 'medium' 'medium' 'medium' 'medium' 'medium' 'medium' 'medium' 'medium'\n",
      " 'medium' 'medium' 'medium' 'medium' 'medium' 'medium' 'medium' 'medium'\n",
      " 'medium' 'medium' 'medium' 'medium' 'medium' 'medium' 'medium' 'medium'\n",
      " 'medium' 'medium' 'medium' 'medium' 'medium' 'medium' 'medium' 'medium'\n",
      " 'medium' 'medium' 'medium' 'medium' 'medium' 'medium' 'medium' 'medium'\n",
      " 'medium' 'medium' 'medium' 'medium' 'medium' 'medium' 'medium' 'medium'\n",
      " 'medium' 'medium' 'medium' 'medium' 'medium' 'medium' 'medium' 'medium'\n",
      " 'medium' 'medium' 'medium' 'medium' 'medium' 'medium' 'medium' 'medium'\n",
      " 'medium' 'medium' 'medium' 'medium' 'medium' 'medium' 'medium']\n"
     ]
    }
   ],
   "source": [
    "dataset = pd.read_csv('data/milk_training.csv')\n",
    "train_data = np.array(dataset)[:, 1:-1]\n",
    "train_label = np.array(dataset)[:, -1]\n",
    "print(train_data)\n",
    "print(train_label)"
   ]
  },
  {
   "cell_type": "code",
   "execution_count": 6,
   "metadata": {},
   "outputs": [
    {
     "name": "stdout",
     "output_type": "stream",
     "text": [
      "[[0.01785714 1.         0.         1.         0.         0.93333333]\n",
      " [0.03571429 0.         1.         0.         1.         0.86666667]\n",
      " [0.05357143 1.         1.         1.         1.         1.        ]\n",
      " ...\n",
      " [0.125      1.         0.         0.         0.         0.46666667]\n",
      " [0.125      0.         0.         0.         0.         1.        ]\n",
      " [0.07142857 0.         0.         0.         0.         1.        ]]\n"
     ]
    }
   ],
   "source": [
    "sc = MinMaxScaler(feature_range=(0, 1))\n",
    "data = sc.fit_transform(train_data)\n",
    "print(data)"
   ]
  }
 ],
 "metadata": {
  "kernelspec": {
   "display_name": "base",
   "language": "python",
   "name": "python3"
  },
  "language_info": {
   "codemirror_mode": {
    "name": "ipython",
    "version": 3
   },
   "file_extension": ".py",
   "mimetype": "text/x-python",
   "name": "python",
   "nbconvert_exporter": "python",
   "pygments_lexer": "ipython3",
   "version": "3.10.9"
  },
  "orig_nbformat": 4
 },
 "nbformat": 4,
 "nbformat_minor": 2
}

{
 "cells": [
  {
   "cell_type": "code",
   "execution_count": 1,
   "metadata": {},
   "outputs": [],
   "source": [
    "from sklearn.neighbors import KNeighborsClassifier\n",
    "from sklearn.preprocessing import MinMaxScaler\n",
    "import pandas as pd\n",
    "import numpy as np"
   ]
  },
  {
   "cell_type": "code",
   "execution_count": 2,
   "metadata": {},
   "outputs": [
    {
     "name": "stdout",
     "output_type": "stream",
     "text": [
      "[[45 1 1 1 0 245]\n",
      " [37 1 1 1 1 255]\n",
      " [38 1 0 1 0 255]\n",
      " ...\n",
      " [37 0 0 0 0 255]\n",
      " [40 1 0 0 0 250]\n",
      " [45 1 1 0 0 247]]\n",
      "['high' 'high' 'high' 'high' 'high' 'high' 'high' 'high' 'high' 'high'\n",
      " 'high' 'high' 'high' 'high' 'high' 'high' 'high' 'high' 'high' 'high'\n",
      " 'high' 'high' 'high' 'high' 'high' 'high' 'high' 'high' 'high' 'high'\n",
      " 'high' 'high' 'high' 'high' 'high' 'high' 'high' 'high' 'high' 'high'\n",
      " 'high' 'high' 'high' 'high' 'high' 'high' 'high' 'high' 'high' 'high'\n",
      " 'high' 'high' 'high' 'high' 'high' 'high' 'high' 'high' 'high' 'high'\n",
      " 'high' 'high' 'high' 'high' 'high' 'high' 'high' 'high' 'high' 'high'\n",
      " 'high' 'high' 'high' 'high' 'high' 'high' 'high' 'low' 'low' 'low' 'low'\n",
      " 'low' 'low' 'low' 'low' 'low' 'low' 'low' 'low' 'low' 'low' 'low' 'low'\n",
      " 'low' 'low' 'low' 'low' 'low' 'low' 'low' 'low' 'low' 'low' 'low' 'low'\n",
      " 'low' 'low' 'low' 'low' 'low' 'low' 'low' 'low' 'low' 'low' 'low' 'low'\n",
      " 'low' 'low' 'low' 'low' 'low' 'low' 'low' 'low' 'low' 'low' 'low' 'low'\n",
      " 'low' 'low' 'low' 'low' 'low' 'low' 'low' 'low' 'low' 'low' 'low' 'low'\n",
      " 'low' 'low' 'low' 'low' 'low' 'low' 'low' 'low' 'low' 'low' 'low' 'low'\n",
      " 'low' 'low' 'low' 'low' 'low' 'low' 'low' 'low' 'low' 'low' 'low' 'low'\n",
      " 'low' 'low' 'low' 'low' 'low' 'low' 'low' 'low' 'low' 'low' 'low' 'low'\n",
      " 'low' 'low' 'low' 'low' 'low' 'low' 'low' 'low' 'low' 'low' 'low' 'low'\n",
      " 'low' 'low' 'low' 'low' 'low' 'low' 'low' 'low' 'low' 'low' 'low' 'low'\n",
      " 'low' 'low' 'low' 'low' 'low' 'medium' 'medium' 'medium' 'medium'\n",
      " 'medium' 'medium' 'medium' 'medium' 'medium' 'medium' 'medium' 'medium'\n",
      " 'medium' 'medium' 'medium' 'medium' 'medium' 'medium' 'medium' 'medium'\n",
      " 'medium' 'medium' 'medium' 'medium' 'medium' 'medium' 'medium' 'medium'\n",
      " 'medium' 'medium' 'medium' 'medium' 'medium' 'medium' 'medium' 'medium'\n",
      " 'medium' 'medium' 'medium' 'medium' 'medium' 'medium' 'medium' 'medium'\n",
      " 'medium' 'medium' 'medium' 'medium' 'medium' 'medium' 'medium' 'medium'\n",
      " 'medium' 'medium' 'medium' 'medium' 'medium' 'medium' 'medium' 'medium'\n",
      " 'medium' 'medium' 'medium' 'medium' 'medium' 'medium' 'medium' 'medium'\n",
      " 'medium' 'medium' 'medium' 'medium' 'medium' 'medium' 'medium' 'medium'\n",
      " 'medium' 'medium' 'medium' 'medium' 'medium' 'medium' 'medium' 'medium'\n",
      " 'medium' 'medium' 'medium' 'medium' 'medium' 'medium' 'medium' 'medium'\n",
      " 'medium' 'medium' 'medium' 'medium' 'medium' 'medium' 'medium' 'medium'\n",
      " 'medium' 'medium' 'medium' 'medium' 'medium' 'medium' 'medium' 'medium'\n",
      " 'medium' 'medium' 'medium']\n"
     ]
    }
   ],
   "source": [
    "dataset = pd.read_csv('data/milk_testing.csv')\n",
    "train_data = np.array(dataset)[:, 1:-1]\n",
    "train_label = np.array(dataset)[:, -1]\n",
    "print(train_data)\n",
    "print(train_label)"
   ]
  },
  {
   "cell_type": "code",
   "execution_count": 3,
   "metadata": {},
   "outputs": [
    {
     "name": "stdout",
     "output_type": "stream",
     "text": [
      "[[0.19642857 1.         1.         1.         0.         0.33333333]\n",
      " [0.05357143 1.         1.         1.         1.         1.        ]\n",
      " [0.07142857 1.         0.         1.         0.         1.        ]\n",
      " ...\n",
      " [0.05357143 0.         0.         0.         0.         1.        ]\n",
      " [0.10714286 1.         0.         0.         0.         0.66666667]\n",
      " [0.19642857 1.         1.         0.         0.         0.46666667]]\n"
     ]
    }
   ],
   "source": [
    "sc = MinMaxScaler(feature_range=(0, 1))\n",
    "data = sc.fit_transform(train_data)\n",
    "print(data)"
   ]
  },
  {
   "cell_type": "code",
   "execution_count": 4,
   "metadata": {},
   "outputs": [
    {
     "name": "stdout",
     "output_type": "stream",
     "text": [
      "[[ 40   1   1   0   0 240]]\n",
      "Hasil dari k-NN :  ['medium']\n"
     ]
    }
   ],
   "source": [
    "kNN = KNeighborsClassifier(n_neighbors=3, weights='distance')\n",
    "kNN.fit(train_data, train_label)\n",
    "\n",
    "temperature = input('Masukkan Temperature: ')\n",
    "taste = input('Masukkan Taste: ')\n",
    "odor = input('Masukkan Odor: ')\n",
    "fat = input('Masukkan Fat: ')\n",
    "turbidity = input('Masukkan Turbidity: ')\n",
    "color = input('Masukkan Colour: ')\n",
    "test_data = np.array([int(temperature), int(taste), int(odor), int(fat), int(turbidity), int(color)])\n",
    "test_data=np.reshape(test_data,(1,-1))\n",
    "print(test_data)\n",
    "hasil=kNN.predict(test_data)\n",
    "print(\"Hasil dari k-NN : \",hasil)"
   ]
  }
 ],
 "metadata": {
  "kernelspec": {
   "display_name": "base",
   "language": "python",
   "name": "python3"
  },
  "language_info": {
   "codemirror_mode": {
    "name": "ipython",
    "version": 3
   },
   "file_extension": ".py",
   "mimetype": "text/x-python",
   "name": "python",
   "nbconvert_exporter": "python",
   "pygments_lexer": "ipython3",
   "version": "3.10.9"
  },
  "orig_nbformat": 4
 },
 "nbformat": 4,
 "nbformat_minor": 2
}

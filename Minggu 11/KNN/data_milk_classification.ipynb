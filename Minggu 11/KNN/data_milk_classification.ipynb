{
 "cells": [
  {
   "cell_type": "code",
   "execution_count": 1,
   "metadata": {},
   "outputs": [],
   "source": [
    "from sklearn.neighbors import KNeighborsClassifier\n",
    "from sklearn.preprocessing import MinMaxScaler\n",
    "import pandas as pd\n",
    "import numpy as np"
   ]
  },
  {
   "cell_type": "code",
   "execution_count": 2,
   "metadata": {},
   "outputs": [
    {
     "name": "stdout",
     "output_type": "stream",
     "text": [
      "[[35 1 0 1 0 254]\n",
      " [36 0 1 0 1 253]\n",
      " [70 1 1 1 1 246]\n",
      " ...\n",
      " [40 1 1 1 1 255]\n",
      " [43 1 0 1 0 250]\n",
      " [55 0 1 1 1 255]]\n",
      "['high' 'high' 'low' ... 'low' 'high' 'low']\n"
     ]
    }
   ],
   "source": [
    "dataset = pd.read_csv('data/milk.csv')\n",
    "train_data = np.array(dataset)[:, 1:-1]\n",
    "train_label = np.array(dataset)[:, -1]\n",
    "print(train_data)\n",
    "print(train_label)"
   ]
  },
  {
   "cell_type": "code",
   "execution_count": 3,
   "metadata": {},
   "outputs": [
    {
     "name": "stdout",
     "output_type": "stream",
     "text": [
      "[[0.01785714 1.         0.         1.         0.         0.93333333]\n",
      " [0.03571429 0.         1.         0.         1.         0.86666667]\n",
      " [0.64285714 1.         1.         1.         1.         0.4       ]\n",
      " ...\n",
      " [0.10714286 1.         1.         1.         1.         1.        ]\n",
      " [0.16071429 1.         0.         1.         0.         0.66666667]\n",
      " [0.375      0.         1.         1.         1.         1.        ]]\n"
     ]
    }
   ],
   "source": [
    "sc = MinMaxScaler(feature_range=(0, 1))\n",
    "data = sc.fit_transform(train_data)\n",
    "print(data)\n"
   ]
  },
  {
   "cell_type": "code",
   "execution_count": 5,
   "metadata": {},
   "outputs": [
    {
     "name": "stdout",
     "output_type": "stream",
     "text": [
      "[[ 34   1   1   0   0 248]]\n",
      "Hasil dari k-NN :  ['medium']\n"
     ]
    }
   ],
   "source": [
    "kNN = KNeighborsClassifier(n_neighbors=3, weights='distance')\n",
    "kNN.fit(train_data, train_label)\n",
    "\n",
    "temperature = input('Masukkan Temperature: ')\n",
    "taste = input('Masukkan Taste: ')\n",
    "odor = input('Masukkan Odor: ')\n",
    "fat = input('Masukkan Fat: ')\n",
    "turbidity = input('Masukkan Turbidity: ')\n",
    "color = input('Masukkan Colour: ')\n",
    "test_data = np.array([int(temperature), int(taste), int(odor), int(fat), int(turbidity), int(color)])\n",
    "test_data=np.reshape(test_data,(1,-1))\n",
    "print(test_data)\n",
    "hasil=kNN.predict(test_data)\n",
    "print(\"Hasil dari k-NN : \",hasil)"
   ]
  }
 ],
 "metadata": {
  "kernelspec": {
   "display_name": "base",
   "language": "python",
   "name": "python3"
  },
  "language_info": {
   "codemirror_mode": {
    "name": "ipython",
    "version": 3
   },
   "file_extension": ".py",
   "mimetype": "text/x-python",
   "name": "python",
   "nbconvert_exporter": "python",
   "pygments_lexer": "ipython3",
   "version": "3.10.9"
  },
  "orig_nbformat": 4
 },
 "nbformat": 4,
 "nbformat_minor": 2
}

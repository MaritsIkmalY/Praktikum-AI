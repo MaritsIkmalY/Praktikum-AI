{
 "cells": [
  {
   "cell_type": "code",
   "execution_count": 2,
   "metadata": {},
   "outputs": [],
   "source": [
    "import pandas as pd\n",
    "from sklearn.model_selection import train_test_split, KFold, LeaveOneOut\n",
    "from sklearn.naive_bayes import GaussianNB\n",
    "from sklearn.preprocessing import MinMaxScaler\n",
    "from sklearn.metrics import accuracy_score\n",
    "\n",
    "# Load dataset\n",
    "dataset = pd.read_csv(\"data/milk.csv\")"
   ]
  },
  {
   "cell_type": "code",
   "execution_count": 3,
   "metadata": {},
   "outputs": [
    {
     "name": "stdout",
     "output_type": "stream",
     "text": [
      "Akurasi Hold-out Method: 0.8207547169811321\n"
     ]
    }
   ],
   "source": [
    "# Split atribut dan label\n",
    "X = dataset.drop('Grade', axis=1)\n",
    "y = dataset['Grade']\n",
    "\n",
    "# Hold-out Method (70%-30%)\n",
    "X_train, X_test, y_train, y_test = train_test_split(X, y, test_size=0.3, random_state=49)\n",
    "\n",
    "# Klasifikasi Naïve Bayes pada Hold-out Method\n",
    "nb = GaussianNB()\n",
    "nb.fit(X_train, y_train)\n",
    "y_pred_holdout = nb.predict(X_test)\n",
    "accuracy_holdout = accuracy_score(y_test, y_pred_holdout)\n",
    "print(\"Akurasi Hold-out Method:\", accuracy_holdout)"
   ]
  },
  {
   "cell_type": "code",
   "execution_count": 4,
   "metadata": {},
   "outputs": [
    {
     "name": "stdout",
     "output_type": "stream",
     "text": [
      "Akurasi K-Fold (k=10): 0.926397124887691\n"
     ]
    }
   ],
   "source": [
    "# K-Fold (k=10)\n",
    "kf = KFold(n_splits=10)\n",
    "accuracy_kfold = []\n",
    "\n",
    "for train_index, test_index in kf.split(X):\n",
    "    X_train, X_test = X.iloc[train_index], X.iloc[test_index]\n",
    "    y_train, y_test = y.iloc[train_index], y.iloc[test_index]\n",
    "\n",
    "    nb.fit(X_train, y_train)\n",
    "    y_pred_kfold = nb.predict(X_test)\n",
    "    accuracy = accuracy_score(y_test, y_pred_kfold)\n",
    "    accuracy_kfold.append(accuracy)\n",
    "\n",
    "mean_accuracy_kfold = sum(accuracy_kfold) / len(accuracy_kfold)\n",
    "print(\"Akurasi K-Fold (k=10):\", mean_accuracy_kfold)"
   ]
  },
  {
   "cell_type": "code",
   "execution_count": 5,
   "metadata": {},
   "outputs": [
    {
     "name": "stdout",
     "output_type": "stream",
     "text": [
      "Akurasi LOO: 0.931067044381492\n"
     ]
    }
   ],
   "source": [
    "# LOO (Leave-One-Out)\n",
    "loo = LeaveOneOut()\n",
    "accuracy_loo = []\n",
    "\n",
    "for train_index, test_index in loo.split(X):\n",
    "    X_train, X_test = X.iloc[train_index], X.iloc[test_index]\n",
    "    y_train, y_test = y.iloc[train_index], y.iloc[test_index]\n",
    "\n",
    "    nb.fit(X_train, y_train)\n",
    "    y_pred_loo = nb.predict(X_test)\n",
    "    accuracy = accuracy_score(y_test, y_pred_loo)\n",
    "    accuracy_loo.append(accuracy)\n",
    "\n",
    "mean_accuracy_loo = sum(accuracy_loo) / len(accuracy_loo)\n",
    "print(\"Akurasi LOO:\", mean_accuracy_loo)"
   ]
  },
  {
   "cell_type": "code",
   "execution_count": 6,
   "metadata": {},
   "outputs": [],
   "source": [
    "# Normalisasi data dengan MinMaxScaler\n",
    "scaler = MinMaxScaler()\n",
    "X_train_normalized = scaler.fit_transform(X_train)\n",
    "X_test_normalized = scaler.transform(X_test)"
   ]
  },
  {
   "cell_type": "code",
   "execution_count": 8,
   "metadata": {},
   "outputs": [
    {
     "name": "stdout",
     "output_type": "stream",
     "text": [
      "Akurasi Naïve Bayes (dengan normalisasi): 1.0\n",
      "Akurasi Hold-out Method (tanpa normalisasi): 1.0\n",
      "Perbandingan akurasi Hold-out Method:\n",
      "- Dengan normalisasi: 0.8207547169811321\n",
      "- Tanpa normalisasi: 1.0\n"
     ]
    }
   ],
   "source": [
    "# Klasifikasi Naïve Bayes pada data yang telah dinormalisasi\n",
    "nb.fit(X_train_normalized, y_train)\n",
    "y_pred_normalized = nb.predict(X_test_normalized)\n",
    "accuracy_normalized = accuracy_score(y_test, y_pred_normalized)\n",
    "print(\"Akurasi Naïve Bayes (dengan normalisasi):\", accuracy_normalized)\n",
    "\n",
    "# Klasifikasi Naïve Bayes pada Hold-out Method tanpa normalisasi\n",
    "nb.fit(X_train, y_train)\n",
    "y_pred_holdout_nonnormalized = nb.predict(X_test)\n",
    "accuracy_holdout_nonnormalized = accuracy_score(y_test, y_pred_holdout_nonnormalized)\n",
    "print(\"Akurasi Hold-out Method (tanpa normalisasi):\", accuracy_holdout_nonnormalized)\n",
    "\n",
    "# Perbandingan akurasi Hold-out Method dengan dan tanpa normalisasi\n",
    "print(\"Perbandingan akurasi Hold-out Method:\")\n",
    "print(\"- Dengan normalisasi:\", accuracy_holdout)\n",
    "print(\"- Tanpa normalisasi:\", accuracy_holdout_nonnormalized)"
   ]
  }
 ],
 "metadata": {
  "kernelspec": {
   "display_name": "Python 3",
   "language": "python",
   "name": "python3"
  },
  "language_info": {
   "codemirror_mode": {
    "name": "ipython",
    "version": 3
   },
   "file_extension": ".py",
   "mimetype": "text/x-python",
   "name": "python",
   "nbconvert_exporter": "python",
   "pygments_lexer": "ipython3",
   "version": "3.10.9"
  },
  "orig_nbformat": 4
 },
 "nbformat": 4,
 "nbformat_minor": 2
}
